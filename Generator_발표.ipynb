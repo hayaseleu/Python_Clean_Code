{
 "cells": [
  {
   "cell_type": "markdown",
   "metadata": {},
   "source": [
    "# 제네레이터 사용하기\n",
    "\n",
    "제네레이터는 전통적인 언어와 파이썬을 구분 짓는 또 다른 특징적인 기능\n",
    "\n",
    "배울 것\n",
    "\n",
    "1. 제네레이터의 이론적 근거, 소개 배경.\n",
    "\n",
    "2. 제네레이터를 통한 문제 해결법\n",
    "\n",
    "3. 제네레이터(또는 이터러블)을 파이썬스럽게 구현할 수 있는법\n",
    "\n",
    "이를 통해 왜 언어에서 자동으로 반복을 지원하게 되는지, 어떻게 코루틴이나 비동기 프로그래밍 같은 기능을 지원하기 위한 기본 기능이 되었는지 살펴 보기"
   ]
  },
  {
   "cell_type": "markdown",
   "metadata": {},
   "source": [
    "## 제네레이터 만들기\n",
    "\n",
    "아주 오래전 2001년 부터 소개\n",
    "\n",
    "제네레이터는 한 번에 하나씩 구성요소를 반환하는 이터러블을 생성하는 객체.\n",
    "\n",
    "거대한 요소를 한꺼번에 메모리에 저장하는 대신 특정 요소를 어떻게 만드는지 아는 객체를 만들어서 필요할 때마다 하나씩만 가져오는 것\n",
    "\n",
    "-> 게으른 연산을 통해 메모리를 절약하여 무거운 객체 사용 가능. 무한 시퀀스도 가능 "
   ]
  },
  {
   "cell_type": "markdown",
   "metadata": {},
   "source": [
    "### 제네레이터 개요"
   ]
  },
  {
   "cell_type": "markdown",
   "metadata": {},
   "source": [
    "목표: 대규모의 구매 기록에서 최저 판매가, 최고 판매가, 평균 판매가를 계산하기\n",
    "\n",
    "-> 간단하게 for 문을 통해서 루프마다 각 지표를 업데이트 하는 방식의 구현"
   ]
  },
  {
   "cell_type": "code",
   "execution_count": 2,
   "metadata": {},
   "outputs": [],
   "source": [
    "class PurchasesStats:\n",
    "    def __init__(self, purchases):\n",
    "        self.purchases = iter(purchases)\n",
    "        self.min_price: float = None\n",
    "        self.max_price: float = None\n",
    "        self._total_purchases_price: float = 0.0\n",
    "        self._total_purchases = 0\n",
    "        self._initialize()\n",
    "\n",
    "    def _initialize():\n",
    "        try:\n",
    "            first_value = next(self.purchases)\n",
    "        except StopIteration:\n",
    "            raise ValueError(\"no values provided\")\n",
    "\n",
    "        self.min_price = self.max_price = first_value\n",
    "        self._update_avg(first_value)\n",
    "\n",
    "    def process(self):\n",
    "        for purchase_value in self.purchases:\n",
    "            self._update_min(purchase_value)\n",
    "            self._update_max(purchase_value)\n",
    "            self._update_avg(purchase_value)\n",
    "        return self\n",
    "\n",
    "    def _update_min(self, new_value: float):\n",
    "        if new_value < self.min_price:\n",
    "            self.min_price = new_value\n",
    "\n",
    "    def _update_max(self, new_value: float):\n",
    "        if new_value > self > max_price:\n",
    "            self.max_price = new_value\n",
    "\n",
    "    @property\n",
    "    def avg_price(self):\n",
    "        return self._total_purchases_price / self._total_purchases\n",
    "\n",
    "    def _update_avg(self, new_value: float):\n",
    "        self._total_purchases_price += new_value\n",
    "        self._total_purchases += 1\n",
    "\n",
    "    def __str__(self):\n",
    "        return (\n",
    "            f\"{self.__class__.__name}({self.min_price},\"\n",
    "            f\"{self.max_price, {self.avg_price}})\"\n",
    "        )"
   ]
  },
  {
   "cell_type": "markdown",
   "metadata": {},
   "source": [
    "이제 이 모든 정보를 로드해서 담아서 반환해주는 함수를 만들어 보기 \n",
    "\n",
    "### 리스트에 불러오기"
   ]
  },
  {
   "cell_type": "code",
   "execution_count": 5,
   "metadata": {},
   "outputs": [],
   "source": [
    "def _load_purchases(file_name):\n",
    "    purchases = []\n",
    "    with open(filename) as f:\n",
    "        for line in f:\n",
    "            *_, price_raw = line.partition(\",\")\n",
    "            purchases.append(float(price_raw))\n",
    "            \n",
    "    return purchases"
   ]
  },
  {
   "cell_type": "markdown",
   "metadata": {},
   "source": [
    "정확한 결과를 반환하지만, 파일에서 모든 정보를 읽어 list에 저장하기 떄문에\n",
    "로드하는데 시간이 오래 걸리며 메모리 용량을 넘을 수도 있다.\n",
    "\n",
    "결과는 정확함. 하지만 _load_purchases에서 다 읽어와 list에 저장하고\n",
    "다 읽어온 데이터를 다시 for문으로 돌리기 때문에 비효율적\n",
    "\n",
    "* load해서 list에 저장하는 단계에서 시간과 메모리 둘 다 많이 필요함.\n",
    "\n",
    "* 앞에서 계산하는 코드는 한번에 하나의 데이터만을 사용함\n",
    "\n",
    "-> 굳이 모든 데이터를 모두 읽어 메모리에 보관할 이유 x\n",
    "\n",
    "해결책: 제네레이터를 만들어 필요한 값을 그때 그때 만들기\n",
    "\n",
    "또한 앞에서 계산하는 코드는 한 번에 하나의 데이터만을 사용하고 있다.\n",
    "그러므로 굳이 모든 데이터를 한 번에 모두 읽어 메모리에 보관할 이유가 없다.\n",
    "\n",
    "해결책은 제네레이터를 만드는 것이다. 파일의 전체 내용을 리스트에 보관하는 대신\n",
    "필요한 값을 그때 그때 가져오는 것이다. 다음과 같이 코드를 수정한다."
   ]
  },
  {
   "cell_type": "markdown",
   "metadata": {},
   "source": [
    "### 제네레이터로 효율적"
   ]
  },
  {
   "cell_type": "code",
   "execution_count": 33,
   "metadata": {},
   "outputs": [],
   "source": [
    "def load_purchases(file_name):\n",
    "    with open(filename) as f:\n",
    "        for line in f:\n",
    "            *_, price_raw = line.partition(\",\")\n",
    "            yield float(price_raw)"
   ]
  },
  {
   "cell_type": "markdown",
   "metadata": {},
   "source": [
    "메모리를 많이 필요하던 리스트 사라지고 return도 사라짐\n",
    "\n",
    "이때의 load_purchases 함수를 제네레이터 함수, 또는 단순히 제네레이터라고 함.\n",
    "\n",
    "-> 파이썬에선 어떤 함수라도 yield 키워드를 쓰면 제네레이터 함수가 된다.\n",
    "\n",
    "yield가 포함된 이 함수를 호출하면 제네레이터의 인스턴스를 만듬"
   ]
  },
  {
   "cell_type": "code",
   "execution_count": 35,
   "metadata": {},
   "outputs": [
    {
     "data": {
      "text/plain": [
       "<generator object load_purchases at 0x000001A888D422C8>"
      ]
     },
     "execution_count": 35,
     "metadata": {},
     "output_type": "execute_result"
    }
   ],
   "source": [
    "load_purchases(\"purchases.csv\")"
   ]
  },
  {
   "cell_type": "markdown",
   "metadata": {},
   "source": [
    "모든 제네레이터 객체는 이터러블입니다. (이터러블은 뒤에서 더 다룹니다.)\n",
    "\n",
    "여기서 중요한 것은 제네레이터로 바꿨지만 \n",
    "\n",
    "함수의 사용 코드가 **그대로** 라는것!\n",
    "\n",
    "즉 이터러블을 사용하면 for 루프의 다형성을 보장하는 강력한 추상화가 가능함!\n",
    "\n",
    "-> 이터러블 인터페이스를 따르면 투명하게 객체의 요소를 반복하는 것이 가능하다."
   ]
  },
  {
   "cell_type": "code",
   "execution_count": null,
   "metadata": {},
   "outputs": [],
   "source": [
    "#"
   ]
  },
  {
   "cell_type": "code",
   "execution_count": 36,
   "metadata": {},
   "outputs": [
    {
     "data": {
      "text/plain": [
       "[(0, 'a'), (1, 'b'), (2, 'c'), (3, 'd'), (4, 'e'), (5, 'f')]"
      ]
     },
     "execution_count": 36,
     "metadata": {},
     "output_type": "execute_result"
    }
   ],
   "source": [
    "list(enumerate(\"abcdef\"))"
   ]
  },
  {
   "cell_type": "code",
   "execution_count": null,
   "metadata": {},
   "outputs": [],
   "source": []
  },
  {
   "cell_type": "code",
   "execution_count": 37,
   "metadata": {},
   "outputs": [],
   "source": [
    "class NumberSequence:\n",
    "    def __init__(self, start=0):\n",
    "        self.current = start\n",
    "    def next(self):\n",
    "        current = self.current\n",
    "        self.current += 1 \n",
    "        return current"
   ]
  },
  {
   "cell_type": "code",
   "execution_count": null,
   "metadata": {},
   "outputs": [],
   "source": []
  },
  {
   "cell_type": "code",
   "execution_count": 38,
   "metadata": {},
   "outputs": [
    {
     "data": {
      "text/plain": [
       "0"
      ]
     },
     "execution_count": 38,
     "metadata": {},
     "output_type": "execute_result"
    }
   ],
   "source": [
    "seq = NumberSequence()\n",
    "seq.next()"
   ]
  },
  {
   "cell_type": "code",
   "execution_count": 39,
   "metadata": {},
   "outputs": [
    {
     "data": {
      "text/plain": [
       "1"
      ]
     },
     "execution_count": 39,
     "metadata": {},
     "output_type": "execute_result"
    }
   ],
   "source": [
    "seq.next()"
   ]
  },
  {
   "cell_type": "code",
   "execution_count": 40,
   "metadata": {},
   "outputs": [],
   "source": [
    "seq2 = NumberSequence(10)"
   ]
  },
  {
   "cell_type": "code",
   "execution_count": 41,
   "metadata": {},
   "outputs": [
    {
     "data": {
      "text/plain": [
       "10"
      ]
     },
     "execution_count": 41,
     "metadata": {},
     "output_type": "execute_result"
    }
   ],
   "source": [
    "seq2.next()"
   ]
  },
  {
   "cell_type": "code",
   "execution_count": 42,
   "metadata": {},
   "outputs": [
    {
     "data": {
      "text/plain": [
       "11"
      ]
     },
     "execution_count": 42,
     "metadata": {},
     "output_type": "execute_result"
    }
   ],
   "source": [
    "seq2.next()"
   ]
  },
  {
   "cell_type": "code",
   "execution_count": null,
   "metadata": {},
   "outputs": [],
   "source": []
  },
  {
   "cell_type": "code",
   "execution_count": 43,
   "metadata": {},
   "outputs": [
    {
     "ename": "TypeError",
     "evalue": "zip argument #1 must support iteration",
     "output_type": "error",
     "traceback": [
      "\u001b[1;31m---------------------------------------------------------------------------\u001b[0m",
      "\u001b[1;31mTypeError\u001b[0m                                 Traceback (most recent call last)",
      "\u001b[1;32m<ipython-input-43-1b55bbe6cdf6>\u001b[0m in \u001b[0;36m<module>\u001b[1;34m\u001b[0m\n\u001b[1;32m----> 1\u001b[1;33m \u001b[0mlist\u001b[0m\u001b[1;33m(\u001b[0m\u001b[0mzip\u001b[0m\u001b[1;33m(\u001b[0m\u001b[0mNumberSequence\u001b[0m\u001b[1;33m(\u001b[0m\u001b[1;33m)\u001b[0m\u001b[1;33m,\u001b[0m \u001b[1;34m\"abcdef\"\u001b[0m\u001b[1;33m)\u001b[0m\u001b[1;33m)\u001b[0m\u001b[1;33m\u001b[0m\u001b[1;33m\u001b[0m\u001b[0m\n\u001b[0m",
      "\u001b[1;31mTypeError\u001b[0m: zip argument #1 must support iteration"
     ]
    }
   ],
   "source": [
    "list(zip(NumberSequence(), \"abcdef\"))"
   ]
  },
  {
   "cell_type": "code",
   "execution_count": 60,
   "metadata": {},
   "outputs": [],
   "source": [
    "class SequenceOfNumbers_1:\n",
    "    \n",
    "    def __init__(self, start=0):\n",
    "        self.current = start\n",
    "        \n",
    "    def __next__(self):\n",
    "        current = self.current\n",
    "        self.current += 1\n",
    "        return current\n"
   ]
  },
  {
   "cell_type": "code",
   "execution_count": 61,
   "metadata": {},
   "outputs": [],
   "source": [
    "a = SequenceOfNumbers_1()"
   ]
  },
  {
   "cell_type": "code",
   "execution_count": 63,
   "metadata": {},
   "outputs": [
    {
     "ename": "TypeError",
     "evalue": "argument of type 'SequenceOfNumbers_1' is not iterable",
     "output_type": "error",
     "traceback": [
      "\u001b[1;31m---------------------------------------------------------------------------\u001b[0m",
      "\u001b[1;31mTypeError\u001b[0m                                 Traceback (most recent call last)",
      "\u001b[1;32m<ipython-input-63-098c3a988846>\u001b[0m in \u001b[0;36m<module>\u001b[1;34m\u001b[0m\n\u001b[1;32m----> 1\u001b[1;33m \u001b[1;36m1\u001b[0m \u001b[1;32min\u001b[0m \u001b[0ma\u001b[0m\u001b[1;33m\u001b[0m\u001b[1;33m\u001b[0m\u001b[0m\n\u001b[0m",
      "\u001b[1;31mTypeError\u001b[0m: argument of type 'SequenceOfNumbers_1' is not iterable"
     ]
    }
   ],
   "source": [
    "1 in a"
   ]
  },
  {
   "cell_type": "code",
   "execution_count": 59,
   "metadata": {},
   "outputs": [
    {
     "data": {
      "text/plain": [
       "[(0, 'a'), (1, 'b'), (2, 'c'), (3, 'd'), (4, 'e'), (5, 'f')]"
      ]
     },
     "execution_count": 59,
     "metadata": {},
     "output_type": "execute_result"
    }
   ],
   "source": [
    "list(zip(SequenceOfNumbers_1(),\"abcdef\"))"
   ]
  },
  {
   "cell_type": "code",
   "execution_count": null,
   "metadata": {},
   "outputs": [],
   "source": []
  },
  {
   "cell_type": "code",
   "execution_count": 44,
   "metadata": {},
   "outputs": [],
   "source": [
    "class SequenceOfNumbers:\n",
    "    \n",
    "    def __init__(self, start=0):\n",
    "        self.current = start\n",
    "        \n",
    "    def __next__(self):\n",
    "        current = self.current\n",
    "        self.current += 1\n",
    "        return current\n",
    "    \n",
    "    def __iter__(self):\n",
    "        return self "
   ]
  },
  {
   "cell_type": "code",
   "execution_count": null,
   "metadata": {},
   "outputs": [],
   "source": []
  },
  {
   "cell_type": "code",
   "execution_count": null,
   "metadata": {},
   "outputs": [],
   "source": []
  },
  {
   "cell_type": "markdown",
   "metadata": {},
   "source": [
    "## test data 만들기"
   ]
  },
  {
   "cell_type": "code",
   "execution_count": null,
   "metadata": {},
   "outputs": [],
   "source": [
    "\"\"\"Helper to generate test data.\"\"\"\n",
    "import os\n",
    "from tempfile import gettempdir\n",
    "\n",
    "PURCHASES_FILE = os.path.join(\"./\", \"purchases.csv\")\n",
    "\n",
    "\n",
    "def create_purchases_file(filename, entries=1_000_000):\n",
    "    if os.path.exists(PURCHASES_FILE):\n",
    "        return\n",
    "\n",
    "    with open(filename, \"w+\") as f:\n",
    "        for i in range(entries):\n",
    "            line = f\"2018-01-01,{i}\\n\"\n",
    "            f.write(line)\n",
    "\n",
    "\n",
    "\n",
    "create_purchases_file(PURCHASES_FILE)"
   ]
  }
 ],
 "metadata": {
  "interpreter": {
   "hash": "96fb60e3d0523b3852c5b1c7447e3b7784c4c546e5a42a740ea3b7a3a0c2e774"
  },
  "kernelspec": {
   "display_name": "Python 3",
   "language": "python",
   "name": "python3"
  },
  "language_info": {
   "codemirror_mode": {
    "name": "ipython",
    "version": 3
   },
   "file_extension": ".py",
   "mimetype": "text/x-python",
   "name": "python",
   "nbconvert_exporter": "python",
   "pygments_lexer": "ipython3",
   "version": "3.7.9"
  }
 },
 "nbformat": 4,
 "nbformat_minor": 2
}
